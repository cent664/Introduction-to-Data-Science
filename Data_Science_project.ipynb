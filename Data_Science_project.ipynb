{
 "cells": [
  {
   "cell_type": "code",
   "execution_count": 362,
   "metadata": {},
   "outputs": [
    {
     "name": "stdout",
     "output_type": "stream",
     "text": [
      "R-squared =  0.12836484891356603\n"
     ]
    }
   ],
   "source": [
    "import pandas as pd\n",
    "import random\n",
    "import numpy as np\n",
    "import matplotlib.pyplot as plt\n",
    "import sklearn.linear_model\n",
    "from sklearn import preprocessing\n",
    "\n",
    "# Read in the data using Pandas. The result is stored in a Pandas Data Frame.\n",
    "df = pd.read_csv(\"Video_Games_Sales_as_at_22_Dec_2016.csv\")\n",
    "\n",
    "# ----------------Cleaning the data of mistyped and missing values----------------------------\n",
    "\n",
    "# Replacing string values in the following 4 features(columns) with NaNs.\n",
    "features_to_be_cleaned = ['Critic_Score' , 'Critic_Count', 'User_Score', 'User_Count']\n",
    "\n",
    "for i in features_to_be_cleaned:\n",
    "    df[i] = df[i].apply(pd.to_numeric, errors='coerce')\n",
    "    #df[i] = df[i].apply(lambda x: np.nan if isinstance(x, str) else x)\n",
    "\n",
    "# Dropping any rows in the entire database with NaN values.\n",
    "df.dropna(inplace = True)\n",
    "\n",
    "# Combining Critic_Score with Critic_Count and User_Score with User_Count to create two new feature vectors\n",
    "df['Weighted_Critic_Score'] = np.multiply(df['Critic_Score'].values, df['Critic_Count'].values).reshape(-1,1)\n",
    "df['Weighted_User_Score'] = np.multiply(df['User_Score'].values, df['User_Count'].values).reshape(-1,1)\n",
    "\n",
    "# Was going for absurd value fit. Try mean and median for missing values. Try other regression algorithms.\n",
    "#df.fillna(999, inplace = True)\n",
    "\n",
    "# Label encoding integer values to nominal string values of the following features(columns).\n",
    "encoding_features = ['Platform' , 'Genre', 'Publisher', 'Developer']\n",
    "le = preprocessing.LabelEncoder()\n",
    "for i in encoding_features:\n",
    "    df[i] = le.fit_transform(df[i])\n",
    "\n",
    "# Saving the preprocessed dataframe\n",
    "df.to_csv('test.csv')\n",
    "\n",
    "def project():\n",
    "    features = df[['Weighted_Critic_Score', 'Weighted_User_Score', 'Platform' , 'Genre', 'Publisher', 'Developer']]\n",
    "    #features = df[['Weighted_Critic_Score', 'Weighted_User_Score']]\n",
    "    predicted_value = df['Global_Sales']\n",
    "    x = features\n",
    "    y = predicted_value\n",
    "\n",
    "    # Specify the model.\n",
    "    model = sklearn.linear_model.LinearRegression(fit_intercept=True)\n",
    "\n",
    "    # Fit the data to the model.\n",
    "    model.fit(x,y)\n",
    "\n",
    "    # R-squared.\n",
    "    R_sq = model.score(x,y)\n",
    "    print(\"R-squared = \", R_sq)\n",
    "    \n",
    "    \"\"\"# The predict function can be applied to a vector. Here we apply to it a\n",
    "    # sequence of evenly-spaced values corresponding to our x-axis.\n",
    "    xfit = np.linspace(140,230,600).reshape(-1,1)\n",
    "    yfit = model.predict(xfit)\n",
    "\n",
    "    # Plot the data\n",
    "    plt.scatter(X,y)\n",
    "    plt.title('Video game sales prediction')\n",
    "    plt.xlabel('Idek')\n",
    "    plt.ylabel('Global Sales')\n",
    "    plt.plot(xfit,yfit)\n",
    "    plt.show()\"\"\"\n",
    "    \n",
    "project()\n"
   ]
  },
  {
   "cell_type": "code",
   "execution_count": 351,
   "metadata": {},
   "outputs": [
    {
     "name": "stdout",
     "output_type": "stream",
     "text": [
      "[[3876.]\n",
      " [5986.]\n",
      " [5840.]\n",
      " ...\n",
      " [1600.]\n",
      " [ 732.]\n",
      " [ 720.]]\n"
     ]
    }
   ],
   "source": [
    "#print(df[['Critic_Score', 'Critic_Count']].values)\n",
    "print(np.multiply(df['Critic_Score'].values, df['Critic_Count'].values).reshape(-1,1))"
   ]
  },
  {
   "cell_type": "code",
   "execution_count": null,
   "metadata": {},
   "outputs": [],
   "source": []
  },
  {
   "cell_type": "code",
   "execution_count": null,
   "metadata": {},
   "outputs": [],
   "source": []
  },
  {
   "cell_type": "code",
   "execution_count": null,
   "metadata": {},
   "outputs": [],
   "source": []
  }
 ],
 "metadata": {
  "kernelspec": {
   "display_name": "Python 3",
   "language": "python",
   "name": "python3"
  },
  "language_info": {
   "codemirror_mode": {
    "name": "ipython",
    "version": 3
   },
   "file_extension": ".py",
   "mimetype": "text/x-python",
   "name": "python",
   "nbconvert_exporter": "python",
   "pygments_lexer": "ipython3",
   "version": "3.6.8"
  }
 },
 "nbformat": 4,
 "nbformat_minor": 2
}
